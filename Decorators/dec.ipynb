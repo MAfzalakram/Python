{
 "cells": [
  {
   "cell_type": "markdown",
   "id": "587db3cf",
   "metadata": {},
   "source": [
    "# Decorators"
   ]
  },
  {
   "cell_type": "code",
   "execution_count": null,
   "id": "bc7182ff",
   "metadata": {},
   "outputs": [],
   "source": [
    "def mydec(myfun):\n",
    "    def wrapper(a:int, b:int):\n",
    "\n",
    "        print(\"Inside Wrapper funtion :()\")\n",
    "        answer = myfun(a,b)\n",
    "        return answer\n",
    "    \n",
    "    return wrapper\n",
    "        \n",
    "        \n",
    "    \n",
    "\n",
    "@mydec \n",
    "def sumf(a,b):\n",
    "    return a+b\n",
    "\n",
    "ans = sumf(5,1)\n",
    "print(f\"The ans is {ans}\")\n",
    "\n",
    "\n",
    "\n",
    "\n",
    "\n"
   ]
  }
 ],
 "metadata": {
  "kernelspec": {
   "display_name": "Python 3",
   "language": "python",
   "name": "python3"
  },
  "language_info": {
   "codemirror_mode": {
    "name": "ipython",
    "version": 3
   },
   "file_extension": ".py",
   "mimetype": "text/x-python",
   "name": "python",
   "nbconvert_exporter": "python",
   "pygments_lexer": "ipython3",
   "version": "3.11.9"
  }
 },
 "nbformat": 4,
 "nbformat_minor": 5
}
