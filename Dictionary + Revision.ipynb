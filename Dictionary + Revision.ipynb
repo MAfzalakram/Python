{
  "nbformat": 4,
  "nbformat_minor": 0,
  "metadata": {
    "colab": {
      "provenance": []
    },
    "kernelspec": {
      "name": "python3",
      "display_name": "Python 3"
    },
    "language_info": {
      "name": "python"
    }
  },
  "cells": [
    {
      "cell_type": "code",
      "execution_count": 2,
      "metadata": {
        "colab": {
          "base_uri": "https://localhost:8080/"
        },
        "id": "-oRJLzBnpQ00",
        "outputId": "14365ff1-8c5b-40e4-cf1e-295841691da2"
      },
      "outputs": [
        {
          "output_type": "stream",
          "name": "stdout",
          "text": [
            "Al- Afzal Digital Skiils\n"
          ]
        }
      ],
      "source": [
        "print(\"Al- Afzal Digital Skiils\")"
      ]
    },
    {
      "cell_type": "markdown",
      "source": [
        "# variable"
      ],
      "metadata": {
        "id": "4WYCybaGpeoT"
      }
    },
    {
      "cell_type": "code",
      "source": [
        "x = 5\n",
        "y = 9\n",
        "z = x + y\n",
        "print(f\"the sum of {x} + {y} = {z}\")"
      ],
      "metadata": {
        "colab": {
          "base_uri": "https://localhost:8080/"
        },
        "id": "FoK1nzTcpdAw",
        "outputId": "ed5a90e0-c1c6-4005-c327-dbd2a3d87ac6"
      },
      "execution_count": 7,
      "outputs": [
        {
          "output_type": "stream",
          "name": "stdout",
          "text": [
            "the sum of 5 + 9 = 14\n"
          ]
        }
      ]
    },
    {
      "cell_type": "markdown",
      "source": [
        "the sum of ... + .... = ...."
      ],
      "metadata": {
        "id": "1jq3M7X0p8-N"
      }
    },
    {
      "cell_type": "code",
      "source": [
        "x = int(input(\"Enter the value of x\"))\n",
        "y = int(input(\"Enter the value of Y\"))\n",
        "z = x + y\n",
        "print(f\"the sum of {x} + {y} = {z}\")"
      ],
      "metadata": {
        "colab": {
          "base_uri": "https://localhost:8080/"
        },
        "id": "1ay-ypcLpvqK",
        "outputId": "82325994-90a1-4ce9-9828-ce5f21c95c73"
      },
      "execution_count": 11,
      "outputs": [
        {
          "output_type": "stream",
          "name": "stdout",
          "text": [
            "Enter the value of x23\n",
            "Enter the value of Y45\n",
            "the sum of 23 + 45 = 68\n"
          ]
        }
      ]
    },
    {
      "cell_type": "code",
      "source": [
        "type(z)"
      ],
      "metadata": {
        "colab": {
          "base_uri": "https://localhost:8080/"
        },
        "id": "lO2ST5WUqILR",
        "outputId": "cc26d5fb-5e04-47e1-bd38-382338ca2f1f"
      },
      "execution_count": 12,
      "outputs": [
        {
          "output_type": "execute_result",
          "data": {
            "text/plain": [
              "int"
            ]
          },
          "metadata": {},
          "execution_count": 12
        }
      ]
    },
    {
      "cell_type": "code",
      "source": [
        "w = 5.3\n",
        "type(w)"
      ],
      "metadata": {
        "colab": {
          "base_uri": "https://localhost:8080/"
        },
        "id": "LIAtxefaqzZ3",
        "outputId": "6ece7978-e4a5-40fb-dd7b-b523c622e688"
      },
      "execution_count": 13,
      "outputs": [
        {
          "output_type": "execute_result",
          "data": {
            "text/plain": [
              "float"
            ]
          },
          "metadata": {},
          "execution_count": 13
        }
      ]
    },
    {
      "cell_type": "code",
      "source": [
        "d = \"Ali\"\n",
        "type(d)"
      ],
      "metadata": {
        "colab": {
          "base_uri": "https://localhost:8080/"
        },
        "id": "OwQ_95sfq3Cw",
        "outputId": "06e15d98-2a1f-4c9c-9af0-51147b1c2ec9"
      },
      "execution_count": 15,
      "outputs": [
        {
          "output_type": "execute_result",
          "data": {
            "text/plain": [
              "str"
            ]
          },
          "metadata": {},
          "execution_count": 15
        }
      ]
    },
    {
      "cell_type": "markdown",
      "source": [
        "# list"
      ],
      "metadata": {
        "id": "BA_pvBiwsHXw"
      }
    },
    {
      "cell_type": "code",
      "source": [
        "names_of_days = [\"Monday\", \"Tuesday\", \"Wednesday\",\"Thursday\", \"Friday\", \"Saturday\", \"Sunday\"]"
      ],
      "metadata": {
        "id": "Zfm8UFWeq5H-"
      },
      "execution_count": 16,
      "outputs": []
    },
    {
      "cell_type": "code",
      "source": [
        "type(names_of_days)"
      ],
      "metadata": {
        "colab": {
          "base_uri": "https://localhost:8080/"
        },
        "id": "rVnMxrwZsYvV",
        "outputId": "88f83d9b-e42c-4963-efe9-4bfbfabdaece"
      },
      "execution_count": 17,
      "outputs": [
        {
          "output_type": "execute_result",
          "data": {
            "text/plain": [
              "list"
            ]
          },
          "metadata": {},
          "execution_count": 17
        }
      ]
    },
    {
      "cell_type": "code",
      "source": [
        "numbers = []"
      ],
      "metadata": {
        "id": "NKLs_jEGsjKO"
      },
      "execution_count": 18,
      "outputs": []
    },
    {
      "cell_type": "code",
      "source": [
        "type(numbers)"
      ],
      "metadata": {
        "colab": {
          "base_uri": "https://localhost:8080/"
        },
        "id": "xwHRB8KGsnfs",
        "outputId": "c485e5d0-740f-4389-abd9-412b95cadecd"
      },
      "execution_count": 19,
      "outputs": [
        {
          "output_type": "execute_result",
          "data": {
            "text/plain": [
              "list"
            ]
          },
          "metadata": {},
          "execution_count": 19
        }
      ]
    },
    {
      "cell_type": "code",
      "source": [
        "print(numbers)\n",
        "x = int(input(\"Enter the value of x\"))\n",
        "numbers.append(x)\n",
        "print(numbers)"
      ],
      "metadata": {
        "colab": {
          "base_uri": "https://localhost:8080/"
        },
        "id": "oky7rT_fspl6",
        "outputId": "e4faba24-09b8-4b21-f915-c93324ca3567"
      },
      "execution_count": 22,
      "outputs": [
        {
          "output_type": "stream",
          "name": "stdout",
          "text": [
            "[45]\n",
            "Enter the value of x49\n",
            "[45, 49]\n"
          ]
        }
      ]
    },
    {
      "cell_type": "markdown",
      "source": [
        "Slicing"
      ],
      "metadata": {
        "id": "L4VMj9-vtKbN"
      }
    },
    {
      "cell_type": "code",
      "source": [
        "print(names_of_days[0:1]) #It will from monday to wednesday [0:8]"
      ],
      "metadata": {
        "colab": {
          "base_uri": "https://localhost:8080/"
        },
        "id": "Qj1Wgyy2szMQ",
        "outputId": "2b1960f1-35d2-4564-ef98-93a9b3b5b977"
      },
      "execution_count": 37,
      "outputs": [
        {
          "output_type": "stream",
          "name": "stdout",
          "text": [
            "['Monday']\n"
          ]
        }
      ]
    },
    {
      "cell_type": "markdown",
      "source": [
        "1. append\n",
        "2. sort\n",
        "3. reverse\n",
        "4. pop\n",
        "5. remove\n",
        "6. index"
      ],
      "metadata": {
        "id": "cKlB2ZBIuzJE"
      }
    },
    {
      "cell_type": "code",
      "source": [
        "students = {\"name\" : \"Ali\",\n",
        "            \"Fee\" : 5000,\n",
        "            \"Books\" : [\"English\" , \"Urdu\", \"Mathematics\"]}"
      ],
      "metadata": {
        "id": "wzRsaTXRt5jS"
      },
      "execution_count": 35,
      "outputs": []
    },
    {
      "cell_type": "code",
      "source": [
        "print(students[\"Books\"])"
      ],
      "metadata": {
        "colab": {
          "base_uri": "https://localhost:8080/"
        },
        "id": "XJvFwCUFwASa",
        "outputId": "77dcab69-4488-4a0a-8b94-1895d749f274"
      },
      "execution_count": 45,
      "outputs": [
        {
          "output_type": "stream",
          "name": "stdout",
          "text": [
            "['English', 'Urdu', 'Mathematics']\n"
          ]
        }
      ]
    },
    {
      "cell_type": "code",
      "source": [
        "print(students.get(\"gender\",\"Not found\"))"
      ],
      "metadata": {
        "colab": {
          "base_uri": "https://localhost:8080/"
        },
        "id": "epgvtTtnwdPd",
        "outputId": "368bc82d-b204-4f59-f554-a5fcb78c9125"
      },
      "execution_count": 47,
      "outputs": [
        {
          "output_type": "stream",
          "name": "stdout",
          "text": [
            "Not found\n"
          ]
        }
      ]
    },
    {
      "cell_type": "code",
      "source": [
        "students[\"Fee\"] = 6000\n",
        "print(students)"
      ],
      "metadata": {
        "colab": {
          "base_uri": "https://localhost:8080/"
        },
        "id": "C2WCfDi0wpK-",
        "outputId": "59629737-88f5-4f98-9924-e0bbde9bf9c2"
      },
      "execution_count": 48,
      "outputs": [
        {
          "output_type": "stream",
          "name": "stdout",
          "text": [
            "{'name': 'Ali', 'Fee': 6000, 'Books': ['English', 'Urdu', 'Mathematics']}\n"
          ]
        }
      ]
    },
    {
      "cell_type": "code",
      "source": [
        "students[\"Gender\"] = \"M\"\n",
        "print(students)"
      ],
      "metadata": {
        "colab": {
          "base_uri": "https://localhost:8080/"
        },
        "id": "g-Km-MCyxFmn",
        "outputId": "40dfcefb-50d5-4da0-8118-d63103ba834d"
      },
      "execution_count": 50,
      "outputs": [
        {
          "output_type": "stream",
          "name": "stdout",
          "text": [
            "{'name': 'Ali', 'Fee': 6000, 'Books': ['English', 'Urdu', 'Mathematics'], 'Gender': 'M'}\n"
          ]
        }
      ]
    },
    {
      "cell_type": "code",
      "source": [
        "print(students.keys())"
      ],
      "metadata": {
        "colab": {
          "base_uri": "https://localhost:8080/"
        },
        "id": "gquLuSuUxOcx",
        "outputId": "df8bfd81-934c-458c-ef51-097eebb66b02"
      },
      "execution_count": 52,
      "outputs": [
        {
          "output_type": "stream",
          "name": "stdout",
          "text": [
            "dict_keys(['name', 'Fee', 'Books', 'Gender'])\n"
          ]
        }
      ]
    },
    {
      "cell_type": "code",
      "source": [
        "print(students.values())"
      ],
      "metadata": {
        "colab": {
          "base_uri": "https://localhost:8080/"
        },
        "id": "6i4E9DtwxdDP",
        "outputId": "f700ce4e-c29f-4714-f920-c060c492c61e"
      },
      "execution_count": 55,
      "outputs": [
        {
          "output_type": "stream",
          "name": "stdout",
          "text": [
            "dict_values(['Ali', 6000, ['English', 'Urdu', 'Mathematics'], 'M'])\n"
          ]
        }
      ]
    },
    {
      "cell_type": "code",
      "source": [
        "print(students.items())"
      ],
      "metadata": {
        "colab": {
          "base_uri": "https://localhost:8080/"
        },
        "id": "VE53sKCcx_aA",
        "outputId": "572685c8-d424-486f-8a24-ad8d9e3adda2"
      },
      "execution_count": 57,
      "outputs": [
        {
          "output_type": "stream",
          "name": "stdout",
          "text": [
            "dict_items([('name', 'Ali'), ('Fee', 6000), ('Books', ['English', 'Urdu', 'Mathematics']), ('Gender', 'M')])\n"
          ]
        }
      ]
    },
    {
      "cell_type": "code",
      "source": [],
      "metadata": {
        "id": "eRnVykz9yL9L"
      },
      "execution_count": null,
      "outputs": []
    }
  ]
}