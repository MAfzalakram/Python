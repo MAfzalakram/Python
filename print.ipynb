{
 "cells": [
  {
   "cell_type": "code",
   "execution_count": 3,
   "id": "af781501-d34b-43be-b819-cbd3e98a7c91",
   "metadata": {},
   "outputs": [
    {
     "name": "stdout",
     "output_type": "stream",
     "text": [
      "Heelo Programming, I am, Heelo Programming, I am, Heelo Programming, I am \n"
     ]
    }
   ],
   "source": [
    "print(\"Heelo Programming, I am, Heelo Programming, I am, Heelo Programming, I am \")"
   ]
  },
  {
   "cell_type": "code",
   "execution_count": 4,
   "id": "1efaeb84-395d-4a86-84fc-825f40622c16",
   "metadata": {},
   "outputs": [
    {
     "name": "stdout",
     "output_type": "stream",
     "text": [
      "I am learning Python \n",
      "Learning Python is fun\n"
     ]
    }
   ],
   "source": [
    "print(\"I am learning Python \\nLearning Python is fun\")"
   ]
  },
  {
   "cell_type": "code",
   "execution_count": 5,
   "id": "a8696b33-3e51-48d7-904d-f76b56839eea",
   "metadata": {},
   "outputs": [
    {
     "name": "stdout",
     "output_type": "stream",
     "text": [
      "I am learning Python \n",
      "Learning Python is fun \n",
      " this is third line \n"
     ]
    }
   ],
   "source": [
    "print(\"I am learning Python \\nLearning Python is fun \\n this is third line \")"
   ]
  },
  {
   "cell_type": "markdown",
   "id": "868a71ce-3d32-48a1-917f-841659d7ad65",
   "metadata": {},
   "source": [
    "# Variable\n",
    "Memory location that can store data"
   ]
  },
  {
   "cell_type": "code",
   "execution_count": 15,
   "id": "2252c3b0-8183-47c2-90c7-ba296e9b0261",
   "metadata": {},
   "outputs": [],
   "source": [
    "x = 10\n",
    "y = 9"
   ]
  },
  {
   "cell_type": "code",
   "execution_count": 18,
   "id": "5434f6dc-17ea-472d-ad38-c9891350eedc",
   "metadata": {},
   "outputs": [
    {
     "name": "stdout",
     "output_type": "stream",
     "text": [
      "x = 9, y = 10\n"
     ]
    }
   ],
   "source": [
    "print(f\"x = {y}, y = {x}\")"
   ]
  },
  {
   "cell_type": "code",
   "execution_count": 17,
   "id": "2da47bd2-84fb-4a43-ad39-791f55d34029",
   "metadata": {},
   "outputs": [
    {
     "name": "stdout",
     "output_type": "stream",
     "text": [
      "x = x, y = y\n"
     ]
    }
   ],
   "source": [
    "print(\"x = x, y = y\")"
   ]
  },
  {
   "cell_type": "code",
   "execution_count": 20,
   "id": "acd207c5-3c9d-499d-8846-4bd7a20652ee",
   "metadata": {},
   "outputs": [],
   "source": [
    "z = x * y"
   ]
  },
  {
   "cell_type": "markdown",
   "id": "f9780782-51f8-4c74-9889-cdbd0f72fdb1",
   "metadata": {},
   "source": [
    "z = ____"
   ]
  },
  {
   "cell_type": "code",
   "execution_count": 22,
   "id": "87e6b53f-f356-4774-abd4-1dff47ec4436",
   "metadata": {},
   "outputs": [
    {
     "name": "stdout",
     "output_type": "stream",
     "text": [
      "z = 81\n"
     ]
    }
   ],
   "source": [
    "print(f\"z = {z}\")"
   ]
  },
  {
   "cell_type": "markdown",
   "id": "734adff8-2430-4f42-bff2-8857a32487a5",
   "metadata": {},
   "source": [
    "area of rectangle = length * width"
   ]
  },
  {
   "cell_type": "code",
   "execution_count": 35,
   "id": "757db758-cc1c-4ba0-8248-2cb8eb5bbf10",
   "metadata": {},
   "outputs": [],
   "source": [
    "length = 4\n",
    "width = 4"
   ]
  },
  {
   "cell_type": "markdown",
   "id": "5545d523-f8d1-4722-a7c2-60ef0912c5af",
   "metadata": {},
   "source": [
    "area of rectangle is = _____"
   ]
  },
  {
   "cell_type": "code",
   "execution_count": 43,
   "id": "ee084f4f-d457-4e34-99c5-f81563f6a1ae",
   "metadata": {},
   "outputs": [
    {
     "name": "stdin",
     "output_type": "stream",
     "text": [
      "Enter the value of length 5\n",
      "Enter the value of Width 7\n"
     ]
    },
    {
     "name": "stdout",
     "output_type": "stream",
     "text": [
      "area of rectangle is 35\n"
     ]
    }
   ],
   "source": [
    "length = int(input(\"Enter the value of length\"))\n",
    "width = int(input(\"Enter the value of Width\"))\n",
    "area = length * width\n",
    "print(f\"area of rectangle is {area}\")"
   ]
  },
  {
   "cell_type": "markdown",
   "id": "d5dee0f6-294f-4443-9376-e2a24d832450",
   "metadata": {},
   "source": [
    "volume = 1/3 radius ^ 3 // "
   ]
  },
  {
   "cell_type": "code",
   "execution_count": null,
   "id": "65bd5012-47f7-47a2-84d1-6809bb73e9ca",
   "metadata": {},
   "outputs": [],
   "source": [
    "Operators\n",
    "+\n",
    "-\n",
    "*\n",
    "/\n",
    "// \n",
    "** power\n",
    "% mod\n",
    "print\n",
    "formulas"
   ]
  },
  {
   "cell_type": "code",
   "execution_count": null,
   "id": "6bc7a14f-e454-4b3b-9de6-13520a9b9c5b",
   "metadata": {},
   "outputs": [],
   "source": []
  }
 ],
 "metadata": {
  "kernelspec": {
   "display_name": "Python 3 (ipykernel)",
   "language": "python",
   "name": "python3"
  },
  "language_info": {
   "codemirror_mode": {
    "name": "ipython",
    "version": 3
   },
   "file_extension": ".py",
   "mimetype": "text/x-python",
   "name": "python",
   "nbconvert_exporter": "python",
   "pygments_lexer": "ipython3",
   "version": "3.11.7"
  }
 },
 "nbformat": 4,
 "nbformat_minor": 5
}
