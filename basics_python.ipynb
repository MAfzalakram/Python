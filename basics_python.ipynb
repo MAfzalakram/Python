{
 "cells": [
  {
   "cell_type": "code",
   "execution_count": 7,
   "id": "983d58b2",
   "metadata": {},
   "outputs": [],
   "source": [
    "# Generators\n",
    "def gen():\n",
    "    for x in range(5):\n",
    "        yield x"
   ]
  },
  {
   "cell_type": "code",
   "execution_count": 13,
   "id": "e3b15145",
   "metadata": {},
   "outputs": [
    {
     "name": "stdout",
     "output_type": "stream",
     "text": [
      "0\n"
     ]
    }
   ],
   "source": [
    "print(next(gen()))"
   ]
  },
  {
   "cell_type": "code",
   "execution_count": 16,
   "id": "f9a00b99",
   "metadata": {},
   "outputs": [
    {
     "name": "stdout",
     "output_type": "stream",
     "text": [
      "0\n"
     ]
    }
   ],
   "source": [
    "generator = gen()\n",
    "print(next(generator))\n"
   ]
  },
  {
   "cell_type": "code",
   "execution_count": 17,
   "id": "c77a4f9a",
   "metadata": {},
   "outputs": [
    {
     "name": "stdout",
     "output_type": "stream",
     "text": [
      "1\n"
     ]
    }
   ],
   "source": [
    "print(next(generator))"
   ]
  },
  {
   "cell_type": "code",
   "execution_count": 18,
   "id": "ca2b6ba5",
   "metadata": {},
   "outputs": [
    {
     "name": "stdout",
     "output_type": "stream",
     "text": [
      "2\n"
     ]
    }
   ],
   "source": [
    "print(next(generator))"
   ]
  },
  {
   "cell_type": "code",
   "execution_count": 20,
   "id": "ed237313",
   "metadata": {},
   "outputs": [],
   "source": [
    "fruits = [\"Apple\", \"Banana\", \"Orange\", \"Melon\",\"Peach\"]\n",
    "def fruits_generator(fruits):\n",
    "    for fruit in fruits:\n",
    "        yield fruit"
   ]
  },
  {
   "cell_type": "code",
   "execution_count": 21,
   "id": "2fcbfb31",
   "metadata": {},
   "outputs": [
    {
     "name": "stdout",
     "output_type": "stream",
     "text": [
      "Apple\n"
     ]
    }
   ],
   "source": [
    "fruit_generator = fruits_generator(fruits)\n",
    "print(next(fruit_generator))"
   ]
  },
  {
   "cell_type": "code",
   "execution_count": 22,
   "id": "95b86018",
   "metadata": {},
   "outputs": [
    {
     "name": "stdout",
     "output_type": "stream",
     "text": [
      "Banana\n"
     ]
    }
   ],
   "source": [
    "print(next(fruit_generator))"
   ]
  },
  {
   "cell_type": "code",
   "execution_count": 28,
   "id": "00833436",
   "metadata": {},
   "outputs": [
    {
     "name": "stdout",
     "output_type": "stream",
     "text": [
      "Pakistan is a great country\n",
      "It is progressing by leaps and bounds\n"
     ]
    }
   ],
   "source": [
    "def line_generator():\n",
    "    with open(\"mytext.txt\", \"r\") as f:\n",
    "        for line in f:\n",
    "            yield line.strip()\n",
    "\n",
    "line_gen = line_generator()\n",
    "print(next(line_gen))\n",
    "print(next(line_gen))"
   ]
  },
  {
   "cell_type": "code",
   "execution_count": null,
   "id": "fdc8596e",
   "metadata": {},
   "outputs": [
    {
     "ename": "StopIteration",
     "evalue": "",
     "output_type": "error",
     "traceback": [
      "\u001b[31m---------------------------------------------------------------------------\u001b[39m",
      "\u001b[31mStopIteration\u001b[39m                             Traceback (most recent call last)",
      "\u001b[36mCell\u001b[39m\u001b[36m \u001b[39m\u001b[32mIn[26]\u001b[39m\u001b[32m, line 1\u001b[39m\n\u001b[32m----> \u001b[39m\u001b[32m1\u001b[39m \u001b[38;5;28mprint\u001b[39m(\u001b[38;5;28;43mnext\u001b[39;49m\u001b[43m(\u001b[49m\u001b[43mline_gen\u001b[49m\u001b[43m)\u001b[49m)\n",
      "\u001b[31mStopIteration\u001b[39m: "
     ]
    }
   ],
   "source": []
  },
  {
   "cell_type": "code",
   "execution_count": null,
   "id": "dbcd0437",
   "metadata": {},
   "outputs": [],
   "source": []
  }
 ],
 "metadata": {
  "kernelspec": {
   "display_name": "Python 3",
   "language": "python",
   "name": "python3"
  },
  "language_info": {
   "codemirror_mode": {
    "name": "ipython",
    "version": 3
   },
   "file_extension": ".py",
   "mimetype": "text/x-python",
   "name": "python",
   "nbconvert_exporter": "python",
   "pygments_lexer": "ipython3",
   "version": "3.11.9"
  }
 },
 "nbformat": 4,
 "nbformat_minor": 5
}
